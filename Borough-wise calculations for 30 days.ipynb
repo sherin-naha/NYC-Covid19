{
 "cells": [
  {
   "cell_type": "code",
   "execution_count": 9,
   "metadata": {},
   "outputs": [],
   "source": [
    "#importing the required libraries\n",
    "import pandas as pd\n",
    "import numpy as np"
   ]
  },
  {
   "cell_type": "code",
   "execution_count": 10,
   "metadata": {},
   "outputs": [],
   "source": [
    "#creating a list of all boroughs\n",
    "borough=['Bronx','Brooklyn','Manhattan','Queens','Staten Island']"
   ]
  },
  {
   "cell_type": "code",
   "execution_count": 11,
   "metadata": {},
   "outputs": [
    {
     "data": {
      "text/plain": [
       "['Bronx', 'Brooklyn', 'Manhattan', 'Queens', 'Staten Island']"
      ]
     },
     "execution_count": 11,
     "metadata": {},
     "output_type": "execute_result"
    }
   ],
   "source": [
    "borough"
   ]
  },
  {
   "cell_type": "code",
   "execution_count": 12,
   "metadata": {},
   "outputs": [],
   "source": [
    "#creating a dictionary from the list\n",
    "boro_dict=dict.fromkeys(borough)"
   ]
  },
  {
   "cell_type": "code",
   "execution_count": 13,
   "metadata": {},
   "outputs": [
    {
     "data": {
      "text/plain": [
       "{'Bronx': None,\n",
       " 'Brooklyn': None,\n",
       " 'Manhattan': None,\n",
       " 'Queens': None,\n",
       " 'Staten Island': None}"
      ]
     },
     "execution_count": 13,
     "metadata": {},
     "output_type": "execute_result"
    }
   ],
   "source": [
    "boro_dict"
   ]
  },
  {
   "cell_type": "code",
   "execution_count": 14,
   "metadata": {},
   "outputs": [],
   "source": [
    "#creating an empty list for each borough\n",
    "for i in borough:\n",
    "    boro_dict[i]=[]"
   ]
  },
  {
   "cell_type": "code",
   "execution_count": 15,
   "metadata": {},
   "outputs": [],
   "source": [
    "#creating a list of all dates in september\n",
    "iter1=[25,26,27,28,29,30]"
   ]
  },
  {
   "cell_type": "code",
   "execution_count": 16,
   "metadata": {},
   "outputs": [],
   "source": [
    "#aggregating the total tests performed boroughwise\n",
    "for i in iter1:\n",
    "    file='data-by-modzcta_9_'+str(i)+'.csv'\n",
    "    df=pd.read_csv(file)\n",
    "    \n",
    "    for j in boro_dict:\n",
    "        boro_dict[j].append(df.groupby(['BOROUGH_GROUP'])['TOTAL_COVID_TESTS'].agg('sum')[j])"
   ]
  },
  {
   "cell_type": "code",
   "execution_count": 17,
   "metadata": {},
   "outputs": [],
   "source": [
    "#creating a list of all dates in october\n",
    "iter2=[1,2,3,4,5,6,7,8,9,11,12,13,14,15,17,18,19,20,21,22,23,24,25,26,27,28,29]"
   ]
  },
  {
   "cell_type": "code",
   "execution_count": 18,
   "metadata": {},
   "outputs": [],
   "source": [
    "#aggregating the total tests performed boroughwise\n",
    "for i in iter2:\n",
    "    file='data-by-modzcta_10_'+str(i)+'.csv'\n",
    "    df=pd.read_csv(file)\n",
    "    \n",
    "    for j in boro_dict:\n",
    "        boro_dict[j].append(df.groupby(['BOROUGH_GROUP'])['TOTAL_COVID_TESTS'].agg('sum')[j])"
   ]
  },
  {
   "cell_type": "code",
   "execution_count": 19,
   "metadata": {},
   "outputs": [],
   "source": [
    "tests=pd.DataFrame(boro_dict)"
   ]
  },
  {
   "cell_type": "code",
   "execution_count": 43,
   "metadata": {},
   "outputs": [],
   "source": [
    "tests.to_csv('boro_total_test.csv')"
   ]
  },
  {
   "cell_type": "code",
   "execution_count": 20,
   "metadata": {},
   "outputs": [],
   "source": [
    "#code for aggregating the case count across boroughs\n",
    "\n",
    "#creating a dictionary from the list\n",
    "boro_dict=dict.fromkeys(borough)\n",
    "#creating an empty list for each borough\n",
    "for i in borough:\n",
    "    boro_dict[i]=[]\n",
    "#creating a list of all dates in september\n",
    "iter1=[25,26,27,28,29,30]\n",
    "#creating a list of all dates in october\n",
    "iter2=[1,2,3,4,5,6,7,8,9,11,12,13,14,15,17,18,19,20,21,22,23,24,25,26,27,28,29]\n",
    "\n",
    "#aggregating the total tests performed boroughwise\n",
    "for i in iter1:\n",
    "    file='data-by-modzcta_9_'+str(i)+'.csv'\n",
    "    df=pd.read_csv(file)\n",
    "    \n",
    "    for j in boro_dict:\n",
    "        boro_dict[j].append(df.groupby(['BOROUGH_GROUP'])['COVID_CASE_COUNT'].agg('sum')[j])\n",
    "\n",
    "        #aggregating the total tests performed boroughwise\n",
    "for i in iter2:\n",
    "    file='data-by-modzcta_10_'+str(i)+'.csv'\n",
    "    df=pd.read_csv(file)\n",
    "    \n",
    "    for j in boro_dict:\n",
    "        boro_dict[j].append(df.groupby(['BOROUGH_GROUP'])['COVID_CASE_COUNT'].agg('sum')[j])"
   ]
  },
  {
   "cell_type": "code",
   "execution_count": null,
   "metadata": {},
   "outputs": [],
   "source": [
    "#creating a dataframe and saving the details\n",
    "cases=pd.DataFrame(boro_dict)\n",
    "cases.to_csv('boro_total_cases.csv')"
   ]
  }
 ],
 "metadata": {
  "kernelspec": {
   "display_name": "Python 3",
   "language": "python",
   "name": "python3"
  },
  "language_info": {
   "codemirror_mode": {
    "name": "ipython",
    "version": 3
   },
   "file_extension": ".py",
   "mimetype": "text/x-python",
   "name": "python",
   "nbconvert_exporter": "python",
   "pygments_lexer": "ipython3",
   "version": "3.7.7"
  }
 },
 "nbformat": 4,
 "nbformat_minor": 4
}
